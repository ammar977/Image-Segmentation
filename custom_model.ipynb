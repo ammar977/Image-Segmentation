{
  "nbformat": 4,
  "nbformat_minor": 0,
  "metadata": {
    "colab": {
      "name": "custom-model.ipynb",
      "version": "0.3.2",
      "provenance": [],
      "collapsed_sections": []
    },
    "kernelspec": {
      "name": "python3",
      "display_name": "Python 3"
    },
    "accelerator": "GPU"
  },
  "cells": [
    {
      "cell_type": "markdown",
      "metadata": {
        "id": "view-in-github",
        "colab_type": "text"
      },
      "source": [
        "[View in Colaboratory](https://colab.research.google.com/github/ammar977/Image-Segmentation/blob/master/custom_model.ipynb)"
      ]
    },
    {
      "metadata": {
        "id": "JptarNAka-K6",
        "colab_type": "code",
        "colab": {}
      },
      "cell_type": "code",
      "source": [
        "pip install -U -q PyDrive"
      ],
      "execution_count": 0,
      "outputs": []
    },
    {
      "metadata": {
        "id": "NIkMimnpVaeP",
        "colab_type": "code",
        "colab": {}
      },
      "cell_type": "code",
      "source": [
        "from pydrive.auth import GoogleAuth\n",
        "from pydrive.drive import GoogleDrive\n",
        "from google.colab import auth\n",
        "from oauth2client.client import GoogleCredentials\n",
        "\n",
        "# 1. Authenticate and create the PyDrive client.\n",
        "auth.authenticate_user()\n",
        "gauth = GoogleAuth()\n",
        "gauth.credentials = GoogleCredentials.get_application_default()\n",
        "drive = GoogleDrive(gauth)\n",
        "\n",
        "# PyDrive reference:\n",
        "# https://googledrive.github.io/PyDrive/docs/build/html/index.html\n"
      ],
      "execution_count": 0,
      "outputs": []
    },
    {
      "metadata": {
        "id": "qMRVElkubD76",
        "colab_type": "code",
        "colab": {}
      },
      "cell_type": "code",
      "source": [
        "# 3. Load a file by ID and print its contents.\n",
        "labels_id = '14ZmV19EUy7NDaLUgxE6FFCtMQ3YzBCNb'\n",
        "downloaded = drive.CreateFile({'id': labels_id})"
      ],
      "execution_count": 0,
      "outputs": []
    },
    {
      "metadata": {
        "id": "ZJ59aLSlXNEP",
        "colab_type": "code",
        "colab": {}
      },
      "cell_type": "code",
      "source": [
        "# 3. Load a file by ID \n",
        "images_id = '1fPniYzDESnB0HpEi0CuCkgqZiiVOWH7h'\n",
        "downloaded = drive.CreateFile({'id': images_id})"
      ],
      "execution_count": 0,
      "outputs": []
    },
    {
      "metadata": {
        "id": "gImfIu5sXY_7",
        "colab_type": "code",
        "colab": {}
      },
      "cell_type": "code",
      "source": [
        "# 3. Load a file by ID \n",
        "gt_id = '1CLwniuwqwrp6j20Rv4D9-bu0Uj2S8P3D'\n",
        "downloaded = drive.CreateFile({'id': gt_id})"
      ],
      "execution_count": 0,
      "outputs": []
    },
    {
      "metadata": {
        "id": "_Vyym8xwl2_w",
        "colab_type": "code",
        "colab": {}
      },
      "cell_type": "code",
      "source": [
        "# 3. Load a file by ID \n",
        "colors_id = '1WrE2ZheAioXsG9qehKQfuN5weL5imJpa'\n",
        "downloaded = drive.CreateFile({'id': colors_id})"
      ],
      "execution_count": 0,
      "outputs": []
    },
    {
      "metadata": {
        "id": "_5DImS0Tf2eu",
        "colab_type": "code",
        "colab": {}
      },
      "cell_type": "code",
      "source": [
        "# 3. Load a file by ID \n",
        "weights_id = '18Ki2zXxNEOExIo87Z38ledkxarH0kihR'\n",
        "downloaded = drive.CreateFile({'id': weights_id})"
      ],
      "execution_count": 0,
      "outputs": []
    },
    {
      "metadata": {
        "id": "E_uz51xtWhFf",
        "colab_type": "code",
        "colab": {
          "base_uri": "https://localhost:8080/",
          "height": 35
        },
        "outputId": "289804d2-5b79-4733-8b82-583961b8f030"
      },
      "cell_type": "code",
      "source": [
        "import tensorflow as tf\n",
        "tf.test.gpu_device_name()"
      ],
      "execution_count": 8,
      "outputs": [
        {
          "output_type": "execute_result",
          "data": {
            "text/plain": [
              "'/device:GPU:0'"
            ]
          },
          "metadata": {
            "tags": []
          },
          "execution_count": 8
        }
      ]
    },
    {
      "metadata": {
        "id": "Bg-_5vsiX_hE",
        "colab_type": "code",
        "colab": {
          "base_uri": "https://localhost:8080/",
          "height": 35
        },
        "outputId": "77a5c596-6932-4ba9-8c2f-c96b31d56341"
      },
      "cell_type": "code",
      "source": [
        "import os \n",
        "import numpy as np\n",
        "import pandas as pd\n",
        "from matplotlib import pyplot as plt\n",
        "import cv2\n",
        "import tensorflow as tf\n",
        "from keras.models import Sequential, Model\n",
        "from keras.engine.topology import Input\n",
        "from keras.layers.core import Dense, Dropout, Activation,Reshape\n",
        "from keras.layers import Conv1D, Conv2D, Flatten, MaxPooling2D, UpSampling2D, ZeroPadding2D\n",
        "from keras.layers.normalization import BatchNormalization\n",
        "from keras.utils import np_utils\n",
        "from keras.utils import plot_model\n",
        "from keras import backend as K\n",
        "from keras.optimizers import Adam\n",
        "import keras\n",
        "from PIL import Image\n",
        "from sklearn.model_selection import train_test_split\n",
        "from keras.layers.core import Lambda\n",
        "from IPython.display import SVG\n",
        "from keras.utils.vis_utils import model_to_dot\n",
        "from keras.callbacks import ModelCheckpoint, EarlyStopping,TensorBoard,CSVLogger,ReduceLROnPlateau"
      ],
      "execution_count": 9,
      "outputs": [
        {
          "output_type": "stream",
          "text": [
            "Using TensorFlow backend.\n"
          ],
          "name": "stderr"
        }
      ]
    },
    {
      "metadata": {
        "id": "-jOKUdyhmFrS",
        "colab_type": "code",
        "colab": {}
      },
      "cell_type": "code",
      "source": [
        "file_list = drive.ListFile({'q': \"'%s' in parents and trashed=false\" % colors_id}).GetList()\n",
        "\n",
        "for f in file_list: \n",
        "    if f['title'] == 'label_colors.csv' :\n",
        "      f.GetContentFile(f['title'])"
      ],
      "execution_count": 0,
      "outputs": []
    },
    {
      "metadata": {
        "id": "YVUZfpKgaWLy",
        "colab_type": "code",
        "colab": {}
      },
      "cell_type": "code",
      "source": [
        "os.mkdir('images')\n",
        "os.chdir('images')\n",
        "file_list = drive.ListFile({'q': \"'%s' in parents and trashed=false\" % images_id}).GetList()\n",
        "\n",
        "for f in file_list: \n",
        "    if f['title'] == '3a44ae15-58ade407(1).png' :\n",
        "      continue\n",
        "      \n",
        "    f.GetContentFile(f['title'])\n"
      ],
      "execution_count": 0,
      "outputs": []
    },
    {
      "metadata": {
        "id": "SsoZh3nAbv1a",
        "colab_type": "code",
        "colab": {}
      },
      "cell_type": "code",
      "source": [
        "os.chdir('../')\n",
        "os.mkdir('labels_categorical')\n",
        "os.chdir('labels_categorical')\n",
        "\n",
        "file_list = drive.ListFile({'q': \"'%s' in parents and trashed=false\" % labels_id}).GetList()\n",
        "\n",
        "for f in file_list: \n",
        "    if f['title'] == '3a44ae15-58ade407(1)' :\n",
        "      continue\n",
        "      \n",
        "    f.GetContentFile(f['title'])"
      ],
      "execution_count": 0,
      "outputs": []
    },
    {
      "metadata": {
        "id": "uHucchEKbeZR",
        "colab_type": "code",
        "colab": {
          "base_uri": "https://localhost:8080/",
          "height": 225
        },
        "outputId": "4e9fc7b6-3c35-43db-9ce7-6f3477c5eeed"
      },
      "cell_type": "code",
      "source": [
        "os.chdir('../')\n",
        "os.listdir()"
      ],
      "execution_count": 14,
      "outputs": [
        {
          "output_type": "execute_result",
          "data": {
            "text/plain": [
              "['datalab',\n",
              " '.local',\n",
              " 'label_colors.csv',\n",
              " '.cache',\n",
              " '.config',\n",
              " '.forever',\n",
              " 'labels_categorical',\n",
              " '.ipython',\n",
              " 'images',\n",
              " '.nv',\n",
              " '.keras',\n",
              " '.rnd']"
            ]
          },
          "metadata": {
            "tags": []
          },
          "execution_count": 14
        }
      ]
    },
    {
      "metadata": {
        "id": "UHWPl8g9jvUD",
        "colab_type": "code",
        "colab": {}
      },
      "cell_type": "code",
      "source": [
        "dataset = []\n",
        "folder = \"./images/\"\n",
        "files = [f for f in os.listdir(folder) if os.path.isfile(os.path.join(folder, f))]\n",
        "for file in files:\n",
        "    dataset.append(file)"
      ],
      "execution_count": 0,
      "outputs": []
    },
    {
      "metadata": {
        "id": "qScoQgzDjnYe",
        "colab_type": "code",
        "colab": {
          "base_uri": "https://localhost:8080/",
          "height": 35
        },
        "outputId": "c127daf4-8cbb-4724-a3a6-878ac25431d1"
      },
      "cell_type": "code",
      "source": [
        "dataset_labels = []\n",
        "folder = \"./labels_categorical/\"\n",
        "files = [f for f in os.listdir(folder) if os.path.isfile(os.path.join(folder, f))]\n",
        "for file in files:\n",
        "    dataset_labels.append(file)\n",
        "\n",
        "print (len(dataset_labels))"
      ],
      "execution_count": 16,
      "outputs": [
        {
          "output_type": "stream",
          "text": [
            "1000\n"
          ],
          "name": "stdout"
        }
      ]
    },
    {
      "metadata": {
        "id": "p8SCVtkuekha",
        "colab_type": "code",
        "colab": {}
      },
      "cell_type": "code",
      "source": [
        "dataset.sort()\n",
        "dataset_labels.sort()"
      ],
      "execution_count": 0,
      "outputs": []
    },
    {
      "metadata": {
        "id": "qFePzGTxmhWH",
        "colab_type": "code",
        "colab": {}
      },
      "cell_type": "code",
      "source": [
        "classes = pd.read_csv('./label_colors.csv',sep='\\t',header=None)\n",
        "classes['class'] = classes.index.values.astype(int)\n",
        "classes.columns = ['rgb','name','class']"
      ],
      "execution_count": 0,
      "outputs": []
    },
    {
      "metadata": {
        "id": "IQAskGhjk0Rg",
        "colab_type": "code",
        "colab": {}
      },
      "cell_type": "code",
      "source": [
        "x_train,x_test,y_train,y_test = train_test_split(dataset,dataset_labels,test_size = 0.2)"
      ],
      "execution_count": 0,
      "outputs": []
    },
    {
      "metadata": {
        "id": "dpcJc1ZKlEjx",
        "colab_type": "code",
        "colab": {}
      },
      "cell_type": "code",
      "source": [
        "batch = 10\n",
        "epochs = 10;\n",
        "num_classes = 41;\n",
        "input_Shape = (150,150)\n",
        "num_train_samples = 800\n",
        "num_test_samples = 200\n",
        "model_name = 'custom_resnet'"
      ],
      "execution_count": 0,
      "outputs": []
    },
    {
      "metadata": {
        "id": "PuC0X7SfnJDU",
        "colab_type": "code",
        "colab": {}
      },
      "cell_type": "code",
      "source": [
        "if not os.path.exists('./'+model_name):\n",
        "    os.mkdir(model_name)"
      ],
      "execution_count": 0,
      "outputs": []
    },
    {
      "metadata": {
        "id": "37z5kuvik8Ni",
        "colab_type": "code",
        "colab": {}
      },
      "cell_type": "code",
      "source": [
        "X_train = np.zeros((num_train_samples,input_Shape[0],input_Shape[1], 3 ))\n",
        "for index,item in enumerate(x_train): \n",
        "    path = \"./images/\" + item\n",
        "    img = plt.imread(path)\n",
        "    new_img = cv2.resize(img,(int(input_Shape[0]),int(input_Shape[1])))\n",
        "    array = np.array(new_img)\n",
        "    X_train[index] = array.reshape((input_Shape[0],input_Shape[1],3)) \n",
        "    \n",
        "    \n",
        "X_test = np.zeros((num_test_samples,input_Shape[0],input_Shape[1], 3 ))\n",
        "for index,item in enumerate(x_test):\n",
        "    path = \"./images/\" + item\n",
        "    img = plt.imread(path)\n",
        "    new_img = cv2.resize(img,(int(input_Shape[0]),int(input_Shape[1])))\n",
        "    array = np.array(new_img)\n",
        "    X_test[index] = array.reshape((input_Shape[0],input_Shape[1],3))"
      ],
      "execution_count": 0,
      "outputs": []
    },
    {
      "metadata": {
        "id": "Ji-f_ElQle91",
        "colab_type": "code",
        "colab": {}
      },
      "cell_type": "code",
      "source": [
        "Y_train = np.zeros((num_train_samples,input_Shape[0],input_Shape[1], num_classes ))\n",
        "for index,item in enumerate(y_train): \n",
        "    path = \"./labels_categorical/\" + item\n",
        "    Y_train[index] = np.load(path)\n",
        "    \n",
        "Y_test = np.zeros((num_test_samples,input_Shape[0],input_Shape[1], num_classes ))\n",
        "for index,item in enumerate(y_test): \n",
        "    path = \"./labels_categorical/\" + item\n",
        "    Y_test[index] = np.load(path)"
      ],
      "execution_count": 0,
      "outputs": []
    },
    {
      "metadata": {
        "id": "XbW9VxkImoSO",
        "colab_type": "code",
        "colab": {}
      },
      "cell_type": "code",
      "source": [
        "def map_img(segmap) :\n",
        "    t = np.zeros((input_Shape[0],input_Shape[1],3),dtype = int)\n",
        "    for i in range(input_Shape[0]) :\n",
        "        for j in range(input_Shape[1]):\n",
        "            a = segmap[i,j,:].argmax()\n",
        "            color = classes['rgb'][a].split(' ')\n",
        "            t[i,j,0] = int(color[0]) \n",
        "            t[i,j,1] = int(color[1])\n",
        "            t[i,j,2] = int(color[2])\n",
        "\n",
        "    return t"
      ],
      "execution_count": 0,
      "outputs": []
    },
    {
      "metadata": {
        "id": "CVqBWIc9mvvs",
        "colab_type": "code",
        "colab": {}
      },
      "cell_type": "code",
      "source": [
        "input_img = Input(shape=(input_Shape[0],input_Shape[1],3))\n",
        "\n",
        "\n",
        "Input_layer = Conv2D(64,(3,3),padding = 'same', name = 'conv1',strides = 1)(input_img)\n",
        "layer_1 = Conv2D(64,(3,3),padding = 'same', name = 'conv2',strides = 1)(Input_layer)\n",
        "layer_1 = BatchNormalization(name = 'BN_1')(layer_1)\n",
        "layer_1 = Activation('relu')(layer_1)\n",
        "\n",
        "shortconconv_1 = Conv2D(64,(1,1),padding = 'same', name = 'shortconconv_1',strides = 1)(Input_layer)\n",
        "\n",
        "added_1 = keras.layers.Add()([shortconconv_1 , layer_1]) \n",
        "shortconconv_2 = Conv2D(128,(1,1),padding = 'same', name = 'shortconconv_2',strides = 1)(added_1)\n",
        "shortconconv_2 = MaxPooling2D((2, 2), padding='same', name = 'pool_1', strides = 2)(shortconconv_2)\n",
        "\n",
        "\n",
        "# layer_2 = Conv2D(128,(3,3),padding = 'same', name = 'maxconv_1',strides = 2)(layer_1)\n",
        "layer_2 = MaxPooling2D((2, 2), padding='same', name = 'maxpool_1', strides = 2)(layer_1)\n",
        "layer_2 = BatchNormalization(name = 'BN_2')(layer_2)\n",
        "layer_2 = Activation('relu')(layer_2)\n",
        "layer_2 = Conv2D(128,(3,3),padding = 'same', name = 'conv_3',strides = 1)(layer_2)\n",
        "\n",
        "added_2 = keras.layers.Add()([shortconconv_2, layer_2]) \n",
        "\n",
        "shortconconv_3 = Conv2D(256,(1,1),padding = 'same', name = 'shortconconv_3',strides = 1)(added_2)\n",
        "shortconconv_3 = MaxPooling2D((2, 2), padding='same', name = 'pool_2', strides = 2)(shortconconv_3)\n",
        "\n",
        "layer_3 = BatchNormalization(name = 'BN_3')(added_2)\n",
        "layer_3 = Activation('relu')(layer_3)\n",
        "# layer_3 = Conv2D(256,(3,3),padding = 'same', name = 'maxconv_2',strides = 2)(layer_3)\n",
        "layer_3 = MaxPooling2D((2, 2), padding='same', name = 'maxpool_2', strides = 2)(layer_3)\n",
        "layer_3 = BatchNormalization(name = 'BN_4')(layer_3)\n",
        "layer_3 = Activation('relu')(layer_3)\n",
        "layer_3 = Conv2D(256,(3,3),padding = 'same', name = 'conv_4',strides = 1)(layer_3)\n",
        "\n",
        "added_3 = keras.layers.Add()([shortconconv_3, layer_3]) \n",
        "shortconconv_4 = Conv2D(512,(1,1),padding = 'same', name = 'shortconconv_4',strides = 1)(added_3)\n",
        "shortconconv_4 = MaxPooling2D((2, 2), padding='same', name = 'pool_3', strides = 2)(shortconconv_4)\n",
        "\n",
        "bridge = BatchNormalization(name = 'BN_5')(added_3)\n",
        "bridge = Activation('relu')(bridge)\n",
        "# bridge = Conv2D(512,(3,3),padding = 'same', name = 'maxconv_3',strides = 2)(bridge)\n",
        "bridge = MaxPooling2D((2, 2), padding='same', name = 'maxpool_3', strides = 2)(bridge)\n",
        "bridge = BatchNormalization(name = 'BN_6')(bridge)\n",
        "bridge = Activation('relu')(bridge)\n",
        "bridge = Conv2D(512,(3,3),padding = 'same', name = 'conv_5',strides = 1)(bridge)\n",
        "\n",
        "\n",
        "added_4 = keras.layers.Add()([shortconconv_4, bridge]) \n",
        "\n",
        "# DECODER\n",
        "\n",
        "upsample_1 = UpSampling2D((2, 2),name = 'upsample_1')(added_4)\n",
        "\n",
        "concat_1 = keras.layers.concatenate([added_3,upsample_1],axis = -1)\n",
        "shortconconv_5 = Conv2D(256,(1,1),padding = 'same', name = 'shortconconv_5',strides = 1)(concat_1)\n",
        "\n",
        "decoder_layer_1 = BatchNormalization(name = 'BN_7')(concat_1)\n",
        "decoder_layer_1  = Activation('relu')(decoder_layer_1)\n",
        "decoder_layer_1 = Conv2D(256,(3,3),padding = 'same', name = 'deconv_1',strides = 1)(decoder_layer_1)\n",
        "decoder_layer_1 = BatchNormalization(name = 'BN_8')(decoder_layer_1)\n",
        "decoder_layer_1  = Activation('relu')(decoder_layer_1)\n",
        "decoder_layer_1 = Conv2D(256,(3,3),padding = 'same', name = 'deconv_2',strides = 1)(decoder_layer_1)\n",
        "\n",
        "added_5 = keras.layers.Add()([shortconconv_5, decoder_layer_1]) \n",
        "upsample_2 = UpSampling2D((2, 2),name = 'upsample_2')(added_5)\n",
        "\n",
        "added_2_pad = Lambda(lambda x: tf.pad(x,paddings=tf.constant([[0, 0,], [1, 0,],[1,0,],[0,0]]) ,mode=\"REFLECT\",name='pad_1'))(added_2)\n",
        "\n",
        "concat_2 = keras.layers.concatenate([added_2_pad,upsample_2],axis = -1)\n",
        "shortconconv_6 = Conv2D(128,(1,1),padding = 'same', name = 'shortconconv_6',strides = 1)(concat_2)\n",
        "\n",
        "decoder_layer_2 = BatchNormalization(name = 'BN_9')(concat_2)\n",
        "decoder_layer_2  = Activation('relu')(decoder_layer_2)\n",
        "decoder_layer_2 = Conv2D(128,(3,3),padding = 'same', name = 'deconv_3',strides = 1)(decoder_layer_2)\n",
        "decoder_layer_2 = BatchNormalization(name = 'BN_10')(decoder_layer_2)\n",
        "decoder_layer_2  = Activation('relu')(decoder_layer_2)\n",
        "decoder_layer_2 = Conv2D(128,(3,3),padding = 'same', name = 'deconv_4',strides = 1)(decoder_layer_2)\n",
        "\n",
        "\n",
        "added_6 = keras.layers.Add()([shortconconv_6, decoder_layer_2]) \n",
        "upsample_3 = UpSampling2D((2, 2),name = 'upsample_3')(added_6)\n",
        "\n",
        "added_1_pad = Lambda(lambda x: tf.pad(x,paddings=tf.constant([[0, 0,], [1, 1,],[1,1,],[0,0]]) ,mode=\"REFLECT\",name='pad_1'))(added_1)\n",
        "\n",
        "concat_3 = keras.layers.concatenate([added_1_pad,upsample_3],axis = -1)\n",
        "shortconconv_6 = Conv2D(64,(3,3),padding = 'valid', name = 'shortconconv_7',strides = 1)(concat_3)\n",
        "\n",
        "decoder_layer_3 = BatchNormalization(name = 'BN_11')(concat_3)\n",
        "decoder_layer_3  = Activation('relu')(decoder_layer_3)\n",
        "decoder_layer_3 = Conv2D(64,(3,3),padding = 'same', name = 'deconv_5',strides = 1)(decoder_layer_3)\n",
        "decoder_layer_3 = BatchNormalization(name = 'BN_12')(decoder_layer_3)\n",
        "decoder_layer_3  = Activation('relu')(decoder_layer_3)\n",
        "decoder_layer_3 = Conv2D(64,(3,3),padding = 'valid', name = 'deconv_6',strides = 1)(decoder_layer_3)\n",
        "\n",
        "added_7 = keras.layers.Add()([shortconconv_6, decoder_layer_3]) \n",
        "\n",
        "output = Conv2D(num_classes,(1,1),padding = 'valid', name = 'deconv_7',strides = 1)(added_7)\n",
        "output = Activation('softmax')(output)\n",
        "\n",
        "autoencoder = Model(input_img, output)"
      ],
      "execution_count": 0,
      "outputs": []
    },
    {
      "metadata": {
        "id": "iGmuOzWRm1jk",
        "colab_type": "code",
        "colab": {
          "base_uri": "https://localhost:8080/",
          "height": 2600
        },
        "outputId": "ad09527d-e6fc-4009-b3b1-4a544b068fc6"
      },
      "cell_type": "code",
      "source": [
        "autoencoder.compile(optimizer = 'adam',loss = 'categorical_crossentropy',metrics = ['accuracy'])\n",
        "autoencoder.summary()"
      ],
      "execution_count": 34,
      "outputs": [
        {
          "output_type": "stream",
          "text": [
            "__________________________________________________________________________________________________\n",
            "Layer (type)                    Output Shape         Param #     Connected to                     \n",
            "==================================================================================================\n",
            "input_1 (InputLayer)            (None, 150, 150, 3)  0                                            \n",
            "__________________________________________________________________________________________________\n",
            "conv1 (Conv2D)                  (None, 150, 150, 64) 1792        input_1[0][0]                    \n",
            "__________________________________________________________________________________________________\n",
            "conv2 (Conv2D)                  (None, 150, 150, 64) 36928       conv1[0][0]                      \n",
            "__________________________________________________________________________________________________\n",
            "BN_1 (BatchNormalization)       (None, 150, 150, 64) 256         conv2[0][0]                      \n",
            "__________________________________________________________________________________________________\n",
            "activation_1 (Activation)       (None, 150, 150, 64) 0           BN_1[0][0]                       \n",
            "__________________________________________________________________________________________________\n",
            "shortconconv_1 (Conv2D)         (None, 150, 150, 64) 4160        conv1[0][0]                      \n",
            "__________________________________________________________________________________________________\n",
            "maxpool_1 (MaxPooling2D)        (None, 75, 75, 64)   0           activation_1[0][0]               \n",
            "__________________________________________________________________________________________________\n",
            "add_1 (Add)                     (None, 150, 150, 64) 0           shortconconv_1[0][0]             \n",
            "                                                                 activation_1[0][0]               \n",
            "__________________________________________________________________________________________________\n",
            "BN_2 (BatchNormalization)       (None, 75, 75, 64)   256         maxpool_1[0][0]                  \n",
            "__________________________________________________________________________________________________\n",
            "shortconconv_2 (Conv2D)         (None, 150, 150, 128 8320        add_1[0][0]                      \n",
            "__________________________________________________________________________________________________\n",
            "activation_2 (Activation)       (None, 75, 75, 64)   0           BN_2[0][0]                       \n",
            "__________________________________________________________________________________________________\n",
            "pool_1 (MaxPooling2D)           (None, 75, 75, 128)  0           shortconconv_2[0][0]             \n",
            "__________________________________________________________________________________________________\n",
            "conv_3 (Conv2D)                 (None, 75, 75, 128)  73856       activation_2[0][0]               \n",
            "__________________________________________________________________________________________________\n",
            "add_2 (Add)                     (None, 75, 75, 128)  0           pool_1[0][0]                     \n",
            "                                                                 conv_3[0][0]                     \n",
            "__________________________________________________________________________________________________\n",
            "BN_3 (BatchNormalization)       (None, 75, 75, 128)  512         add_2[0][0]                      \n",
            "__________________________________________________________________________________________________\n",
            "activation_3 (Activation)       (None, 75, 75, 128)  0           BN_3[0][0]                       \n",
            "__________________________________________________________________________________________________\n",
            "maxpool_2 (MaxPooling2D)        (None, 38, 38, 128)  0           activation_3[0][0]               \n",
            "__________________________________________________________________________________________________\n",
            "BN_4 (BatchNormalization)       (None, 38, 38, 128)  512         maxpool_2[0][0]                  \n",
            "__________________________________________________________________________________________________\n",
            "shortconconv_3 (Conv2D)         (None, 75, 75, 256)  33024       add_2[0][0]                      \n",
            "__________________________________________________________________________________________________\n",
            "activation_4 (Activation)       (None, 38, 38, 128)  0           BN_4[0][0]                       \n",
            "__________________________________________________________________________________________________\n",
            "pool_2 (MaxPooling2D)           (None, 38, 38, 256)  0           shortconconv_3[0][0]             \n",
            "__________________________________________________________________________________________________\n",
            "conv_4 (Conv2D)                 (None, 38, 38, 256)  295168      activation_4[0][0]               \n",
            "__________________________________________________________________________________________________\n",
            "add_3 (Add)                     (None, 38, 38, 256)  0           pool_2[0][0]                     \n",
            "                                                                 conv_4[0][0]                     \n",
            "__________________________________________________________________________________________________\n",
            "BN_5 (BatchNormalization)       (None, 38, 38, 256)  1024        add_3[0][0]                      \n",
            "__________________________________________________________________________________________________\n",
            "activation_5 (Activation)       (None, 38, 38, 256)  0           BN_5[0][0]                       \n",
            "__________________________________________________________________________________________________\n",
            "maxpool_3 (MaxPooling2D)        (None, 19, 19, 256)  0           activation_5[0][0]               \n",
            "__________________________________________________________________________________________________\n",
            "BN_6 (BatchNormalization)       (None, 19, 19, 256)  1024        maxpool_3[0][0]                  \n",
            "__________________________________________________________________________________________________\n",
            "shortconconv_4 (Conv2D)         (None, 38, 38, 512)  131584      add_3[0][0]                      \n",
            "__________________________________________________________________________________________________\n",
            "activation_6 (Activation)       (None, 19, 19, 256)  0           BN_6[0][0]                       \n",
            "__________________________________________________________________________________________________\n",
            "pool_3 (MaxPooling2D)           (None, 19, 19, 512)  0           shortconconv_4[0][0]             \n",
            "__________________________________________________________________________________________________\n",
            "conv_5 (Conv2D)                 (None, 19, 19, 512)  1180160     activation_6[0][0]               \n",
            "__________________________________________________________________________________________________\n",
            "add_4 (Add)                     (None, 19, 19, 512)  0           pool_3[0][0]                     \n",
            "                                                                 conv_5[0][0]                     \n",
            "__________________________________________________________________________________________________\n",
            "upsample_1 (UpSampling2D)       (None, 38, 38, 512)  0           add_4[0][0]                      \n",
            "__________________________________________________________________________________________________\n",
            "concatenate_1 (Concatenate)     (None, 38, 38, 768)  0           add_3[0][0]                      \n",
            "                                                                 upsample_1[0][0]                 \n",
            "__________________________________________________________________________________________________\n",
            "BN_7 (BatchNormalization)       (None, 38, 38, 768)  3072        concatenate_1[0][0]              \n",
            "__________________________________________________________________________________________________\n",
            "activation_7 (Activation)       (None, 38, 38, 768)  0           BN_7[0][0]                       \n",
            "__________________________________________________________________________________________________\n",
            "deconv_1 (Conv2D)               (None, 38, 38, 256)  1769728     activation_7[0][0]               \n",
            "__________________________________________________________________________________________________\n",
            "BN_8 (BatchNormalization)       (None, 38, 38, 256)  1024        deconv_1[0][0]                   \n",
            "__________________________________________________________________________________________________\n",
            "activation_8 (Activation)       (None, 38, 38, 256)  0           BN_8[0][0]                       \n",
            "__________________________________________________________________________________________________\n",
            "shortconconv_5 (Conv2D)         (None, 38, 38, 256)  196864      concatenate_1[0][0]              \n",
            "__________________________________________________________________________________________________\n",
            "deconv_2 (Conv2D)               (None, 38, 38, 256)  590080      activation_8[0][0]               \n",
            "__________________________________________________________________________________________________\n",
            "add_5 (Add)                     (None, 38, 38, 256)  0           shortconconv_5[0][0]             \n",
            "                                                                 deconv_2[0][0]                   \n",
            "__________________________________________________________________________________________________\n",
            "lambda_1 (Lambda)               (None, 76, 76, 128)  0           add_2[0][0]                      \n",
            "__________________________________________________________________________________________________\n",
            "upsample_2 (UpSampling2D)       (None, 76, 76, 256)  0           add_5[0][0]                      \n",
            "__________________________________________________________________________________________________\n",
            "concatenate_2 (Concatenate)     (None, 76, 76, 384)  0           lambda_1[0][0]                   \n",
            "                                                                 upsample_2[0][0]                 \n",
            "__________________________________________________________________________________________________\n",
            "BN_9 (BatchNormalization)       (None, 76, 76, 384)  1536        concatenate_2[0][0]              \n",
            "__________________________________________________________________________________________________\n",
            "activation_9 (Activation)       (None, 76, 76, 384)  0           BN_9[0][0]                       \n",
            "__________________________________________________________________________________________________\n",
            "deconv_3 (Conv2D)               (None, 76, 76, 128)  442496      activation_9[0][0]               \n",
            "__________________________________________________________________________________________________\n",
            "BN_10 (BatchNormalization)      (None, 76, 76, 128)  512         deconv_3[0][0]                   \n",
            "__________________________________________________________________________________________________\n",
            "activation_10 (Activation)      (None, 76, 76, 128)  0           BN_10[0][0]                      \n",
            "__________________________________________________________________________________________________\n",
            "shortconconv_6 (Conv2D)         (None, 76, 76, 128)  49280       concatenate_2[0][0]              \n",
            "__________________________________________________________________________________________________\n",
            "deconv_4 (Conv2D)               (None, 76, 76, 128)  147584      activation_10[0][0]              \n",
            "__________________________________________________________________________________________________\n",
            "add_6 (Add)                     (None, 76, 76, 128)  0           shortconconv_6[0][0]             \n",
            "                                                                 deconv_4[0][0]                   \n",
            "__________________________________________________________________________________________________\n",
            "lambda_2 (Lambda)               (None, 152, 152, 64) 0           add_1[0][0]                      \n",
            "__________________________________________________________________________________________________\n",
            "upsample_3 (UpSampling2D)       (None, 152, 152, 128 0           add_6[0][0]                      \n",
            "__________________________________________________________________________________________________\n",
            "concatenate_3 (Concatenate)     (None, 152, 152, 192 0           lambda_2[0][0]                   \n",
            "                                                                 upsample_3[0][0]                 \n",
            "__________________________________________________________________________________________________\n",
            "BN_11 (BatchNormalization)      (None, 152, 152, 192 768         concatenate_3[0][0]              \n",
            "__________________________________________________________________________________________________\n",
            "activation_11 (Activation)      (None, 152, 152, 192 0           BN_11[0][0]                      \n",
            "__________________________________________________________________________________________________\n",
            "deconv_5 (Conv2D)               (None, 152, 152, 64) 110656      activation_11[0][0]              \n",
            "__________________________________________________________________________________________________\n",
            "BN_12 (BatchNormalization)      (None, 152, 152, 64) 256         deconv_5[0][0]                   \n",
            "__________________________________________________________________________________________________\n",
            "activation_12 (Activation)      (None, 152, 152, 64) 0           BN_12[0][0]                      \n",
            "__________________________________________________________________________________________________\n",
            "shortconconv_7 (Conv2D)         (None, 150, 150, 64) 110656      concatenate_3[0][0]              \n",
            "__________________________________________________________________________________________________\n",
            "deconv_6 (Conv2D)               (None, 150, 150, 64) 36928       activation_12[0][0]              \n",
            "__________________________________________________________________________________________________\n",
            "add_7 (Add)                     (None, 150, 150, 64) 0           shortconconv_7[0][0]             \n",
            "                                                                 deconv_6[0][0]                   \n",
            "__________________________________________________________________________________________________\n",
            "deconv_7 (Conv2D)               (None, 150, 150, 41) 2665        add_7[0][0]                      \n",
            "__________________________________________________________________________________________________\n",
            "activation_13 (Activation)      (None, 150, 150, 41) 0           deconv_7[0][0]                   \n",
            "==================================================================================================\n",
            "Total params: 5,232,681\n",
            "Trainable params: 5,227,305\n",
            "Non-trainable params: 5,376\n",
            "__________________________________________________________________________________________________\n"
          ],
          "name": "stdout"
        }
      ]
    },
    {
      "metadata": {
        "id": "vI3FNxDFm4hM",
        "colab_type": "code",
        "colab": {}
      },
      "cell_type": "code",
      "source": [
        "# Code for storing history of model \n",
        "checkpoint = ModelCheckpoint(model_name+'/'+model_name+'.h5',monitor='val_acc',verbose = 2,save_best_only = True,save_weights_only = True, mode = 'auto')\n",
        "earlystop = EarlyStopping(monitor='val_loss', min_delta=0, patience = 4, verbose=0, mode='auto')\n",
        "tensorboard = TensorBoard(log_dir='./'+model_name, histogram_freq=0, batch_size=batch, write_graph=True, write_grads=False, write_images=True, embeddings_freq=0, embeddings_layer_names=None, embeddings_metadata=None)\n",
        "rp = ReduceLROnPlateau(monitor='val_loss', factor=0.2, patience = 4, min_lr=0.001)\n",
        "csvlogger = CSVLogger(model_name+'/logs.csv', separator=',', append= True)\n",
        "callbacks = [checkpoint,tensorboard, earlystop, csvlogger, rp]"
      ],
      "execution_count": 0,
      "outputs": []
    },
    {
      "metadata": {
        "id": "lE7mUkidgvVr",
        "colab_type": "code",
        "colab": {
          "base_uri": "https://localhost:8080/",
          "height": 35
        },
        "outputId": "05597dee-42d4-4a6c-ed00-dd3773ce5267"
      },
      "cell_type": "code",
      "source": [
        "file_list = drive.ListFile({'q': \"'%s' in parents and trashed=false\" % weights_id}).GetList()\n",
        "print (len(file_list))\n",
        "for f in file_list: \n",
        "    if f['title'] == 'labels_categorical' :\n",
        "      continue\n",
        "      \n",
        "    f.GetContentFile(f['title'])\n",
        "    starting_weights = f['title']"
      ],
      "execution_count": 31,
      "outputs": [
        {
          "output_type": "stream",
          "text": [
            "2\n"
          ],
          "name": "stdout"
        }
      ]
    },
    {
      "metadata": {
        "id": "X8GZWHUR0a7W",
        "colab_type": "code",
        "colab": {}
      },
      "cell_type": "code",
      "source": [
        "# autoencoder.load_weights(model_name+'/'+model_name+'.h5')\n",
        "# autoencoder.load_weights(model_name + 'my_weights.h5')\n",
        "autoencoder.load_weights(starting_weights)"
      ],
      "execution_count": 0,
      "outputs": []
    },
    {
      "metadata": {
        "id": "dpvhFObn6u0T",
        "colab_type": "code",
        "colab": {}
      },
      "cell_type": "code",
      "source": [
        "del [x_train,y_train,file_list,dataset,dataset_labels]"
      ],
      "execution_count": 0,
      "outputs": []
    },
    {
      "metadata": {
        "id": "UgH_GN8SnXQA",
        "colab_type": "code",
        "colab": {
          "base_uri": "https://localhost:8080/",
          "height": 401
        },
        "outputId": "403fa817-30f2-4435-eb60-6221d5852d26"
      },
      "cell_type": "code",
      "source": [
        "# Fine-tune the model with your dataset for segmentation\n",
        "auto_encoder_train = autoencoder.fit(X_train,Y_train, batch_size = batch , epochs=epochs,callbacks = callbacks,validation_data = (X_test,Y_test))"
      ],
      "execution_count": 54,
      "outputs": [
        {
          "output_type": "stream",
          "text": [
            "Train on 800 samples, validate on 200 samples\n",
            "Epoch 1/10\n",
            "800/800 [==============================] - 67s 83ms/step - loss: 0.4348 - acc: 0.8900 - val_loss: 1.6348 - val_acc: 0.7444\n",
            "\n",
            "Epoch 00001: val_acc did not improve from 0.77272\n",
            "Epoch 2/10\n",
            "800/800 [==============================] - 66s 83ms/step - loss: 0.4283 - acc: 0.8928 - val_loss: 1.7997 - val_acc: 0.7320\n",
            "\n",
            "Epoch 00002: val_acc did not improve from 0.77272\n",
            "Epoch 3/10\n",
            "800/800 [==============================] - 66s 83ms/step - loss: 0.4368 - acc: 0.8881 - val_loss: 1.7182 - val_acc: 0.7522\n",
            "\n",
            "Epoch 00003: val_acc did not improve from 0.77272\n",
            "Epoch 4/10\n",
            "300/800 [==========>...................] - ETA: 37s - loss: 0.4247 - acc: 0.8884"
          ],
          "name": "stdout"
        },
        {
          "output_type": "stream",
          "text": [
            "800/800 [==============================] - 66s 83ms/step - loss: 0.4173 - acc: 0.8847 - val_loss: 1.7385 - val_acc: 0.7296\n",
            "\n",
            "Epoch 00004: val_acc did not improve from 0.77272\n",
            "Epoch 5/10\n",
            "800/800 [==============================] - 66s 83ms/step - loss: 0.4186 - acc: 0.8824 - val_loss: 1.6681 - val_acc: 0.7454\n",
            "\n",
            "Epoch 00005: val_acc did not improve from 0.77272\n"
          ],
          "name": "stdout"
        }
      ]
    },
    {
      "metadata": {
        "id": "TFqxQjJHovYO",
        "colab_type": "code",
        "colab": {}
      },
      "cell_type": "code",
      "source": [
        "autoencoder.save_weights(model_name + 'my_weights.h5')"
      ],
      "execution_count": 0,
      "outputs": []
    },
    {
      "metadata": {
        "id": "7jAtxQnoowrj",
        "colab_type": "code",
        "colab": {}
      },
      "cell_type": "code",
      "source": [
        "# from google.colab import files\n",
        "# files.download(model_name+'/'+model_name+'.h5')\n",
        "files.download(model_name + 'my_weights.h5')"
      ],
      "execution_count": 0,
      "outputs": []
    },
    {
      "metadata": {
        "id": "MqcJpRCGxbQD",
        "colab_type": "code",
        "colab": {
          "base_uri": "https://localhost:8080/",
          "height": 347
        },
        "outputId": "3d200fe6-0080-4fd5-dd2c-19560243fd08"
      },
      "cell_type": "code",
      "source": [
        "pd.read_csv(model_name+'/logs.csv').plot()\n",
        "plt.show()"
      ],
      "execution_count": 42,
      "outputs": [
        {
          "output_type": "display_data",
          "data": {
            "image/png": "[encoded data removed]",
            "text/plain": [
              "<matplotlib.figure.Figure at 0x7fd32bb2d1d0>"
            ]
          },
          "metadata": {
            "tags": []
          }
        }
      ]
    },
    {
      "metadata": {
        "id": "pN5oaXwAzirt",
        "colab_type": "code",
        "colab": {
          "base_uri": "https://localhost:8080/",
          "height": 52
        },
        "outputId": "8176fd55-5631-4a6a-a7c5-c9f7e6bdabaa"
      },
      "cell_type": "code",
      "source": [
        "scores = autoencoder.evaluate(X_test,Y_test)\n",
        "print (scores)"
      ],
      "execution_count": 55,
      "outputs": [
        {
          "output_type": "stream",
          "text": [
            "200/200 [==============================] - 5s 26ms/step\n",
            "[1.678383560180664, 0.730177776813507]\n"
          ],
          "name": "stdout"
        }
      ]
    }
  ]
}